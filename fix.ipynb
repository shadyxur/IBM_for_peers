{
 "cells": [
  {
   "cell_type": "markdown",
   "id": "496324e2",
   "metadata": {},
   "source": [
    "fix"
   ]
  },
  {
   "cell_type": "code",
   "execution_count": null,
   "id": "b421abf6",
   "metadata": {},
   "outputs": [],
   "source": [
    "import yfinance as yf\n",
    "import pandas as pd\n",
    "import warnings\n",
    "import requests\n",
    "from bs4 import BeautifulSoup\n",
    "import matplotlib.pyplot as plt"
   ]
  },
  {
   "cell_type": "code",
   "execution_count": null,
   "id": "dc880695",
   "metadata": {
    "lines_to_next_cell": 1
   },
   "outputs": [],
   "source": [
    "# Suppress FutureWarning\n",
    "warnings.simplefilter(action='ignore', category=FutureWarning)"
   ]
  },
  {
   "cell_type": "code",
   "execution_count": null,
   "id": "7ab54bf9",
   "metadata": {
    "lines_to_next_cell": 1
   },
   "outputs": [],
   "source": [
    "# Function to get stock data\n",
    "def get_stock_data(ticker):\n",
    "    stock = yf.Ticker(ticker)\n",
    "    data = stock.history(period=\"max\")\n",
    "    data.reset_index(inplace=True)\n",
    "    data['Date'] = pd.to_datetime(data['Date']).dt.tz_localize(None)\n",
    "    return data"
   ]
  },
  {
   "cell_type": "code",
   "execution_count": null,
   "id": "a2505003",
   "metadata": {
    "lines_to_next_cell": 1
   },
   "outputs": [],
   "source": [
    "# Function to get revenue data\n",
    "def get_revenue_data(url, table_index, date_format=None):\n",
    "    response = requests.get(url)\n",
    "    html_data = response.text\n",
    "    soup = BeautifulSoup(html_data, 'html.parser')\n",
    "    table = soup.find_all('table')[table_index]\n",
    "    revenue = pd.read_html(str(table))[0]\n",
    "    revenue.columns = ['Date', 'Revenue']\n",
    "    # Print the raw revenue data for debugging\n",
    "    print(\"Raw Revenue Data:\")\n",
    "    print(revenue.head())\n",
    "    # Ensure Date column is in datetime format\n",
    "    if date_format:\n",
    "        revenue['Date'] = pd.to_datetime(revenue['Date'], format=date_format, errors='coerce').dt.tz_localize(None)\n",
    "    else:\n",
    "        revenue['Date'] = pd.to_datetime(revenue['Date'], errors='coerce').dt.tz_localize(None)\n",
    "    # Clean the Revenue column\n",
    "    revenue['Revenue'] = revenue['Revenue'].str.replace(',', '').str.replace('$', '').astype(float)\n",
    "    # Drop null or empty values\n",
    "    revenue.dropna(inplace=True)\n",
    "    return revenue"
   ]
  },
  {
   "cell_type": "code",
   "execution_count": null,
   "id": "376a4d41",
   "metadata": {
    "lines_to_next_cell": 1
   },
   "outputs": [],
   "source": [
    "# Function to create a graph\n",
    "def make_graph(stock_data, revenue_data, title):\n",
    "    fig, ax1 = plt.subplots(figsize=(14, 8))\n",
    "    \n",
    "    ax1.plot(stock_data['Date'], stock_data['Close'], 'b-')\n",
    "    ax1.set_xlabel('Date')\n",
    "    ax1.set_ylabel('Stock Price', color='b')\n",
    "    ax1.tick_params('y', colors='b')\n",
    "\n",
    "    ax2 = ax1.twinx()\n",
    "    ax2.plot(revenue_data['Date'], revenue_data['Revenue'], 'r-')\n",
    "    ax2.set_ylabel('Revenue', color='r')\n",
    "    ax2.tick_params('y', colors='r')\n",
    "\n",
    "    plt.title(title)\n",
    "    plt.show()"
   ]
  },
  {
   "cell_type": "code",
   "execution_count": null,
   "id": "fa0bb239",
   "metadata": {},
   "outputs": [],
   "source": [
    "# Fetch and prepare data for Tesla and GameStop\n",
    "tesla_data = get_stock_data(\"TSLA\")\n",
    "gme_data = get_stock_data(\"GME\")\n",
    "tesla_revenue = get_revenue_data(\"https://cf-courses-data.s3.us.cloud-object-storage.appdomain.cloud/IBMDeveloperSkillsNetwork-PY0220EN-SkillsNetwork/labs/project/revenue.htm\", 0, date_format='%Y')\n",
    "gme_revenue = get_revenue_data(\"https://cf-courses-data.s3.us.cloud-object-storage.appdomain.cloud/IBMDeveloperSkillsNetwork-PY0220EN-SkillsNetwork/labs/project/stock.html\", 1)"
   ]
  },
  {
   "cell_type": "code",
   "execution_count": null,
   "id": "11a0e801",
   "metadata": {},
   "outputs": [],
   "source": [
    "# Display the first five rows\n",
    "print(\"Tesla Data:\")\n",
    "print(tesla_data.head())"
   ]
  },
  {
   "cell_type": "code",
   "execution_count": null,
   "id": "fd36fc39",
   "metadata": {},
   "outputs": [],
   "source": [
    "# Display the first five rows\n",
    "print(\"\\nGameStop Data:\")\n",
    "print(gme_data.head())"
   ]
  },
  {
   "cell_type": "code",
   "execution_count": null,
   "id": "118d429f",
   "metadata": {},
   "outputs": [],
   "source": [
    "# Filter Tesla data and revenue starting from 2010\n",
    "tesla_data = tesla_data[tesla_data['Date'] >= pd.Timestamp('2010-01-01')]\n",
    "tesla_revenue = tesla_revenue[tesla_revenue['Date'] >= pd.Timestamp('2010-01-01')]"
   ]
  },
  {
   "cell_type": "code",
   "execution_count": null,
   "id": "00c574bc",
   "metadata": {},
   "outputs": [],
   "source": [
    "# Display the last 5 rows of the tesla_revenue DataFrame\n",
    "print(\"Tesla Revenue:\")\n",
    "print(tesla_revenue.tail())"
   ]
  },
  {
   "cell_type": "code",
   "execution_count": null,
   "id": "5ef7f5cb",
   "metadata": {},
   "outputs": [],
   "source": [
    "# Display the last 5 rows of the gme_revenue DataFrame\n",
    "print(\"\\nGameStop Revenue:\")\n",
    "print(gme_revenue.tail())"
   ]
  },
  {
   "cell_type": "code",
   "execution_count": null,
   "id": "3a22d601",
   "metadata": {},
   "outputs": [],
   "source": [
    "# Generate graphs for Tesla and GameStop\n",
    "make_graph(tesla_data[tesla_data['Date'] <= pd.Timestamp('2021-06-30')], tesla_revenue[tesla_revenue['Date'] <= pd.Timestamp('2021-06-30')], 'Tesla')\n",
    "make_graph(gme_data[gme_data['Date'] <= pd.Timestamp('2021-06-30')], gme_revenue[gme_revenue['Date'] <= pd.Timestamp('2021-06-30')], 'GameStop')"
   ]
  },
  {
   "cell_type": "code",
   "execution_count": null,
   "id": "cdda2079",
   "metadata": {},
   "outputs": [],
   "source": []
  }
 ],
 "metadata": {
  "jupytext": {
   "cell_metadata_filter": "-all",
   "main_language": "python",
   "notebook_metadata_filter": "-all"
  }
 },
 "nbformat": 4,
 "nbformat_minor": 5
}
