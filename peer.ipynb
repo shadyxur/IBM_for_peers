{
 "cells": [
  {
   "cell_type": "markdown",
   "id": "f79b3073",
   "metadata": {},
   "source": [
    "Peer review for data scraping and visualization file"
   ]
  },
  {
   "cell_type": "code",
   "execution_count": null,
   "id": "98ec7647",
   "metadata": {},
   "outputs": [],
   "source": [
    "import yfinance as yf\n",
    "import pandas as pd\n",
    "import warnings"
   ]
  },
  {
   "cell_type": "code",
   "execution_count": null,
   "id": "6c655cda",
   "metadata": {},
   "outputs": [],
   "source": [
    "# Suppress FutureWarning\n",
    "warnings.simplefilter(action='ignore', category=FutureWarning)"
   ]
  },
  {
   "cell_type": "code",
   "execution_count": null,
   "id": "2d4967e2",
   "metadata": {},
   "outputs": [],
   "source": [
    "# Create a ticker object for Tesla (TSLA)\n",
    "tesla = yf.Ticker(\"TSLA\")\n",
    "# Extract stock information and save it in a DataFrame\n",
    "tesla_data = tesla.history(period=\"max\")\n",
    "# Reset the index\n",
    "tesla_data.reset_index(inplace=True)\n",
    "# Ensure the Date column is in datetime format and timezone-naive\n",
    "tesla_data['Date'] = pd.to_datetime(tesla_data['Date']).dt.tz_localize(None)"
   ]
  },
  {
   "cell_type": "code",
   "execution_count": null,
   "id": "77ba9777",
   "metadata": {},
   "outputs": [],
   "source": [
    "# Display the first five rows\n",
    "print(\"Tesla Data:\")\n",
    "print(tesla_data.head())"
   ]
  },
  {
   "cell_type": "code",
   "execution_count": null,
   "id": "928c717a",
   "metadata": {},
   "outputs": [],
   "source": [
    "# Create a ticker object for GameStop (GME)\n",
    "gme = yf.Ticker(\"GME\")\n",
    "# Extract stock information and save it in a DataFrame\n",
    "gme_data = gme.history(period=\"max\")\n",
    "# Reset the index\n",
    "gme_data.reset_index(inplace=True)\n",
    "# Ensure the Date column is in datetime format and timezone-naive\n",
    "gme_data['Date'] = pd.to_datetime(gme_data['Date']).dt.tz_localize(None)"
   ]
  },
  {
   "cell_type": "code",
   "execution_count": null,
   "id": "cb30d426",
   "metadata": {},
   "outputs": [],
   "source": [
    "# Display the first five rows\n",
    "print(\"\\nGameStop Data:\")\n",
    "print(gme_data.head())"
   ]
  },
  {
   "cell_type": "code",
   "execution_count": null,
   "id": "fb8765b3",
   "metadata": {},
   "outputs": [],
   "source": [
    "import requests\n",
    "from bs4 import BeautifulSoup"
   ]
  },
  {
   "cell_type": "code",
   "execution_count": null,
   "id": "af936fe5",
   "metadata": {},
   "outputs": [],
   "source": [
    "# URL of the Tesla revenue page\n",
    "tesla_url = \"https://cf-courses-data.s3.us.cloud-object-storage.appdomain.cloud/IBMDeveloperSkillsNetwork-PY0220EN-SkillsNetwork/labs/project/revenue.htm\"\n",
    "# Fetch the HTML data\n",
    "tesla_response = requests.get(tesla_url)\n",
    "tesla_html_data = tesla_response.text\n",
    "# Parse the HTML data with BeautifulSoup\n",
    "tesla_soup = BeautifulSoup(tesla_html_data, 'html.parser')\n",
    "# Extract the table with Tesla Revenue\n",
    "tesla_table = tesla_soup.find_all('table')[0]\n",
    "# Use read_html to extract the table into a DataFrame\n",
    "tesla_revenue = pd.read_html(str(tesla_table))[0]\n",
    "# Rename the columns to 'Date' and 'Revenue'\n",
    "tesla_revenue.columns = ['Date', 'Revenue']\n",
    "# Clean the Revenue column\n",
    "tesla_revenue['Revenue'] = tesla_revenue['Revenue'].str.replace(',', '').str.replace('$', '').astype(float)\n",
    "# Drop null or empty values\n",
    "tesla_revenue.dropna(inplace=True)\n",
    "# Ensure the Date column is in datetime format and timezone-naive\n",
    "tesla_revenue['Date'] = pd.to_datetime(tesla_revenue['Date'], errors='coerce').dt.tz_localize(None)"
   ]
  },
  {
   "cell_type": "code",
   "execution_count": null,
   "id": "3f2c3103",
   "metadata": {},
   "outputs": [],
   "source": [
    "# Display the last 5 rows of the tesla_revenue DataFrame\n",
    "print(\"Tesla Revenue:\")\n",
    "print(tesla_revenue.tail())"
   ]
  },
  {
   "cell_type": "code",
   "execution_count": null,
   "id": "159a16f3",
   "metadata": {},
   "outputs": [],
   "source": [
    "# URL of the GameStop revenue page\n",
    "gme_url = \"https://cf-courses-data.s3.us.cloud-object-storage.appdomain.cloud/IBMDeveloperSkillsNetwork-PY0220EN-SkillsNetwork/labs/project/stock.html\"\n",
    "# Fetch the HTML data\n",
    "gme_response = requests.get(gme_url)\n",
    "gme_html_data = gme_response.text\n",
    "# Parse the HTML data with BeautifulSoup\n",
    "gme_soup = BeautifulSoup(gme_html_data, 'html.parser')\n",
    "# Extract the table with GameStop Revenue\n",
    "gme_table = gme_soup.find_all('table')[1]\n",
    "# Use read_html to extract the table into a DataFrame\n",
    "gme_revenue = pd.read_html(str(gme_table))[0]\n",
    "# Rename the columns to 'Date' and 'Revenue'\n",
    "gme_revenue.columns = ['Date', 'Revenue']\n",
    "# Clean the Revenue column\n",
    "gme_revenue['Revenue'] = gme_revenue['Revenue'].str.replace(',', '').str.replace('$', '').astype(float)\n",
    "# Drop null or empty values\n",
    "gme_revenue.dropna(inplace=True)\n",
    "# Ensure the Date column is in datetime format and timezone-naive\n",
    "gme_revenue['Date'] = pd.to_datetime(gme_revenue['Date'], errors='coerce').dt.tz_localize(None)"
   ]
  },
  {
   "cell_type": "code",
   "execution_count": null,
   "id": "c6754bbb",
   "metadata": {},
   "outputs": [],
   "source": [
    "# Display the last 5 rows of the gme_revenue DataFrame\n",
    "print(\"\\nGameStop Revenue:\")\n",
    "print(gme_revenue.tail())"
   ]
  },
  {
   "cell_type": "code",
   "execution_count": null,
   "id": "c58d9cbf",
   "metadata": {
    "lines_to_next_cell": 1
   },
   "outputs": [],
   "source": [
    "import matplotlib.pyplot as plt"
   ]
  },
  {
   "cell_type": "code",
   "execution_count": null,
   "id": "f1371ed7",
   "metadata": {
    "lines_to_next_cell": 1
   },
   "outputs": [],
   "source": [
    "def make_graph(stock_data, revenue_data, title):\n",
    "    fig, ax1 = plt.subplots(figsize=(14, 8))\n",
    "    \n",
    "    ax1.plot(stock_data['Date'], stock_data['Close'], 'b-')\n",
    "    ax1.set_xlabel('Date')\n",
    "    ax1.set_ylabel('Stock Price', color='b')\n",
    "    ax1.tick_params('y', colors='b')\n",
    "\n",
    "    ax2 = ax1.twinx()\n",
    "    ax2.plot(revenue_data['Date'], revenue_data['Revenue'], 'r-')\n",
    "    ax2.set_ylabel('Revenue', color='r')\n",
    "    ax2.tick_params('y', colors='r')\n",
    "\n",
    "    plt.title(title)\n",
    "    plt.show()"
   ]
  },
  {
   "cell_type": "code",
   "execution_count": null,
   "id": "c7db4976",
   "metadata": {},
   "outputs": [],
   "source": [
    "# Filter Tesla data and revenue \n",
    "tesla_data = tesla_data[tesla_data['Date'] >= pd.Timestamp('2010-01-01')]\n",
    "tesla_revenue = tesla_revenue[tesla_revenue['Date'] >= pd.Timestamp('2010-01-01')]"
   ]
  },
  {
   "cell_type": "code",
   "execution_count": null,
   "id": "2d01887a",
   "metadata": {},
   "outputs": [],
   "source": [
    "# Graph for Tesla\n",
    "make_graph(tesla_data[tesla_data['Date'] <= pd.Timestamp('2021-06-30')], tesla_revenue[tesla_revenue['Date'] <= pd.Timestamp('2021-06-30')], 'Tesla')"
   ]
  },
  {
   "cell_type": "code",
   "execution_count": null,
   "id": "562bef03",
   "metadata": {},
   "outputs": [],
   "source": [
    "# Graph for GameStop\n",
    "make_graph(gme_data[gme_data['Date'] <= pd.Timestamp('2021-06-30')], gme_revenue[gme_revenue['Date'] <= pd.Timestamp('2021-06-30')], 'GameStop')"
   ]
  },
  {
   "cell_type": "code",
   "execution_count": null,
   "id": "52ca269b",
   "metadata": {},
   "outputs": [],
   "source": []
  },
  {
   "cell_type": "code",
   "execution_count": null,
   "id": "7346ccc0",
   "metadata": {
    "lines_to_next_cell": 2
   },
   "outputs": [],
   "source": []
  }
 ],
 "metadata": {
  "jupytext": {
   "cell_metadata_filter": "-all",
   "main_language": "python",
   "notebook_metadata_filter": "-all"
  }
 },
 "nbformat": 4,
 "nbformat_minor": 5
}
